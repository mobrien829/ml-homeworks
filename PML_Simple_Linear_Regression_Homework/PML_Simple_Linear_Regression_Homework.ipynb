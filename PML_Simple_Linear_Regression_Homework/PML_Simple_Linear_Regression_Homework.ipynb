{
 "cells": [
  {
   "cell_type": "markdown",
   "metadata": {},
   "source": [
    "# Simple Linear Regression Homework"
   ]
  },
  {
   "cell_type": "code",
   "execution_count": 1,
   "metadata": {},
   "outputs": [],
   "source": [
    "import pandas as pd\n",
    "import numpy as np\n",
    "from sklearn.linear_model import LinearRegression, HuberRegressor"
   ]
  },
  {
   "cell_type": "markdown",
   "metadata": {},
   "source": [
    "- In this homework, we will study simple linear regression with the traffic accident data set\n",
    "- Step 1, please load fars2007.csv into a pandas dataframe\n",
    "- The command pd.read_csv('fars2007.csv', index_col=0) will be handy"
   ]
  },
  {
   "cell_type": "code",
   "execution_count": 2,
   "metadata": {},
   "outputs": [
    {
     "data": {
      "text/plain": [
       "Index(['Obs.', 'state', 'casenum', 'vnum', 'pnum', 'lightcond', 'numfatal',\n",
       "       'vforms', 'age', 'airbag', 'injury', 'ptype', 'restraint', 'seatpos',\n",
       "       'sex', 'body', 'inimpact', 'mhevent', 'vfatcount', 'numoccs', 'travspd',\n",
       "       'make', 'model', 'modelyr'],\n",
       "      dtype='object')"
      ]
     },
     "execution_count": 2,
     "metadata": {},
     "output_type": "execute_result"
    }
   ],
   "source": [
    "accidents = pd.read_csv('fars2007.csv', index_col=0)\n",
    "accidents.columns"
   ]
  },
  {
   "cell_type": "markdown",
   "metadata": {},
   "source": [
    "- ther are 65499 samples in this data set\n",
    "\n",
    "- Among all the columns, we pay attention to 'travspd' (i.e. travel speed) and 'injury' columns"
   ]
  },
  {
   "cell_type": "markdown",
   "metadata": {},
   "source": [
    "## Q1: Study the relationship of vehicle speeds and the Accident Counts\n",
    "- Use pandas 'pd.cut' function (with labels=False) to bin the travspd into 20 bins and introduce a new column of bin numbers\n",
    "- GroupyBy the data frame based on the newly introduced bin numbers and compute the average speed and total accident count in each bin\n",
    "- Run a simple linear regression of $20$ samples of accident counts against average speeds\n",
    "- Plot the scatterplot of counts vs average speeds and identify the outlier(s)\n",
    "- Rerun the simple linear regression after removing the outlier(s). Are the intercept/slope almost unchanged?\n",
    "- Run a huber regression using HuberRegressor model on the $20$ samples without removing the outlier(s). What happen to its reported intercept and slope?\n",
    "- According to the fitted linear model, how many more traffic accidents would occur if the speed increases by 10 miles?"
   ]
  },
  {
   "cell_type": "code",
   "execution_count": 3,
   "metadata": {
    "collapsed": true
   },
   "outputs": [],
   "source": [
    "accidents['speedBin'] = # use pd.cut here\n",
    "X = # groupby "
   ]
  },
  {
   "cell_type": "code",
   "execution_count": 4,
   "metadata": {},
   "outputs": [
    {
     "name": "stdout",
     "output_type": "stream",
     "text": [
      "intercept -2296.73\n",
      "slope 116.03\n"
     ]
    }
   ],
   "source": [
    "lm = LinearRegression()\n",
    "lm.fit(, )\n",
    "print('intercept %.2f' %())\n",
    "print('slope %.2f' %())"
   ]
  },
  {
   "cell_type": "code",
   "execution_count": 5,
   "metadata": {},
   "outputs": [
    {
     "data": {
      "text/plain": [
       "<matplotlib.axes._subplots.AxesSubplot at 0x1a1475a518>"
      ]
     },
     "execution_count": 5,
     "metadata": {},
     "output_type": "execute_result"
    },
    {
     "data": {
      "image/png": "[encoded data removed]",
      "text/plain": [
       "<Figure size 432x288 with 1 Axes>"
      ]
     },
     "metadata": {},
     "output_type": "display_data"
    }
   ],
   "source": [
    "# The following scatter plot shows that the 100 miles bin is an outlier\n",
    "X.plot"
   ]
  },
  {
   "cell_type": "code",
   "execution_count": 6,
   "metadata": {},
   "outputs": [
    {
     "data": {
      "text/plain": [
       "<matplotlib.axes._subplots.AxesSubplot at 0x1035b9ef0>"
      ]
     },
     "execution_count": 6,
     "metadata": {},
     "output_type": "execute_result"
    },
    {
     "data": {
      "image/png": "[encoded data removed]",
      "text/plain": [
       "<Figure size 432x288 with 1 Axes>"
      ]
     },
     "metadata": {},
     "output_type": "display_data"
    }
   ],
   "source": [
    "# Removing the outlier\n",
    "Y = X[?]\n",
    "Y.plot"
   ]
  },
  {
   "cell_type": "code",
   "execution_count": 7,
   "metadata": {},
   "outputs": [
    {
     "data": {
      "text/plain": [
       "LinearRegression(copy_X=True, fit_intercept=True, n_jobs=1, normalize=False)"
      ]
     },
     "execution_count": 7,
     "metadata": {},
     "output_type": "execute_result"
    }
   ],
   "source": [
    "# Fit the linear model without the outlier\n",
    "ols = LinearRegression()\n",
    "ols.fit(, )"
   ]
  },
  {
   "cell_type": "code",
   "execution_count": 8,
   "metadata": {},
   "outputs": [
    {
     "name": "stdout",
     "output_type": "stream",
     "text": [
      "intercept 1231.24\n",
      "slope 2.62\n"
     ]
    }
   ],
   "source": [
    "print('intercept %.2f' %())\n",
    "print('slope %.2f' %())"
   ]
  },
  {
   "cell_type": "markdown",
   "metadata": {},
   "source": [
    "- By removing one outlier, the fitted intercept and slope change substaintially"
   ]
  },
  {
   "cell_type": "markdown",
   "metadata": {},
   "source": [
    "## Huber Regression without Removing the Outlier"
   ]
  },
  {
   "cell_type": "code",
   "execution_count": 9,
   "metadata": {},
   "outputs": [
    {
     "data": {
      "text/plain": [
       "HuberRegressor(alpha=0.0001, epsilon=1.35, fit_intercept=True, max_iter=100,\n",
       "        tol=1e-05, warm_start=False)"
      ]
     },
     "execution_count": 9,
     "metadata": {},
     "output_type": "execute_result"
    }
   ],
   "source": [
    "hub = HuberRegressor()\n",
    "hub.fit(, )"
   ]
  },
  {
   "cell_type": "code",
   "execution_count": 10,
   "metadata": {},
   "outputs": [
    {
     "name": "stdout",
     "output_type": "stream",
     "text": [
      "intercept 1008.60\n",
      "slope 7.25\n"
     ]
    }
   ],
   "source": [
    "print('intercept %.2f' %())\n",
    "print('slope %.2f' %())"
   ]
  },
  {
   "cell_type": "markdown",
   "metadata": {},
   "source": [
    "## Huber Regression \n",
    "- The huber regression uses a different loss function than simple linear regression **RSS**\n",
    "- It is more robust than **OLS**\n",
    "- The same idea is used in the more advanced **SVR** (support vector regression)\n",
    "- Please visit http://scikit-learn.org/stable/modules/generated/sklearn.linear_model.HuberRegressor.html for the behavior of the robust **Huber** regression"
   ]
  },
  {
   "cell_type": "markdown",
   "metadata": {},
   "source": [
    "## Visualization of Huber vs RSS Losses\n",
    "- The blue color is the **RSS** loss function\n",
    "- The green color is the **Huber** loss function\n",
    "- The secret of **Huber** regression's robustness on the outliers is due to the linearity of the **loss** function \n",
    "beyond $[-\\epsilon, \\epsilon]$. \n",
    "- **sklearn** HuberRegressor sets $\\epsilon=1.35$"
   ]
  },
  {
   "cell_type": "code",
   "execution_count": 11,
   "metadata": {},
   "outputs": [
    {
     "data": {
      "image/png": "[encoded data removed]",
      "text/plain": [
       "<IPython.core.display.Image object>"
      ]
     },
     "execution_count": 11,
     "metadata": {},
     "output_type": "execute_result"
    }
   ],
   "source": [
    "from IPython.display import Image\n",
    "Image(\"Huber_loss.svg.png\")\n",
    "# The picture is taken from wiki"
   ]
  },
  {
   "cell_type": "markdown",
   "metadata": {},
   "source": [
    "## Q2\n",
    "- To study the relationship between the number of injuried people in a traffic accident against the speed, do it in two ways:\n",
    "    \n",
    "A. Run a simple linear regression on the total data set (after removing the rows with missing values)\n",
    "\n",
    "B. Mimick Q1 and run a simple linear regression on the 20 samples of average injuries against average speeds after binning\n",
    "\n",
    "- Do these two simple linear regressions produce the same answers (intercepts and slopes)? What causes the answer to differ?\n",
    "\n",
    "- LinearRegression's fit method has a **weight** keyword argument. Rerun B using the 20 accident counts in the bins as the weights\n",
    "- Does the revised result coincide with the linear model on the full data set? "
   ]
  },
  {
   "cell_type": "markdown",
   "metadata": {},
   "source": [
    "##  Fit an OLS on the Full Dataset After Removing the Missing Row"
   ]
  },
  {
   "cell_type": "code",
   "execution_count": 12,
   "metadata": {},
   "outputs": [
    {
     "name": "stdout",
     "output_type": "stream",
     "text": [
      "intercept 1.78\n",
      "slope 0.0092\n"
     ]
    }
   ],
   "source": [
    "lm2 = LinearRegression()\n",
    "accidents2 = accidents.loc[] # removing missing travspd rows\n",
    "lm2.fit(, )\n",
    "print('intercept %.2f' %())\n",
    "print('slope %.4f' %())"
   ]
  },
  {
   "cell_type": "markdown",
   "metadata": {},
   "source": [
    "## Fit an OLS on the GroupBy Dataset"
   ]
  },
  {
   "cell_type": "code",
   "execution_count": 13,
   "metadata": {},
   "outputs": [
    {
     "data": {
      "text/plain": [
       "<matplotlib.axes._subplots.AxesSubplot at 0x10fcbe4e0>"
      ]
     },
     "execution_count": 13,
     "metadata": {},
     "output_type": "execute_result"
    },
    {
     "data": {
      "image/png": "[encoded data removed]",
      "text/plain": [
       "<Figure size 432x288 with 1 Axes>"
      ]
     },
     "metadata": {},
     "output_type": "display_data"
    }
   ],
   "source": [
    "Z = accidents.groupby()['injury','travspd'].agg({})\n",
    "Z.columns = ['travspd', 'injury', 'count']\n",
    "Z.plot.scatter()"
   ]
  },
  {
   "cell_type": "code",
   "execution_count": 14,
   "metadata": {},
   "outputs": [
    {
     "name": "stdout",
     "output_type": "stream",
     "text": [
      "[0.01830298]\n",
      "1.5088099055841537\n"
     ]
    }
   ],
   "source": [
    "ols.fit(, )\n",
    "print()\n",
    "print()"
   ]
  },
  {
   "cell_type": "markdown",
   "metadata": {},
   "source": [
    "- The slope terms of both regressions are substaintially different!"
   ]
  },
  {
   "cell_type": "markdown",
   "metadata": {},
   "source": [
    "## Weighted LS\n",
    "- We feed the sample count in each bin as the linear regression weights\n",
    "- The regression result is very similar to the coefficient estimation from the full samples"
   ]
  },
  {
   "cell_type": "code",
   "execution_count": 15,
   "metadata": {},
   "outputs": [
    {
     "name": "stdout",
     "output_type": "stream",
     "text": [
      "[0.00916512]\n",
      "1.7854498993851033\n"
     ]
    }
   ],
   "source": [
    "ols.fit(, , ?)\n",
    "print()\n",
    "print()"
   ]
  },
  {
   "cell_type": "markdown",
   "metadata": {},
   "source": [
    "## Q3: Are the Residuals Normally Distributed?\n",
    "- Please study the residuals of the simple linear model on the $~65000$ data points. Display the histogram and conclude whether\n",
    "the residuals come from a normal (i.e. Gaussian) distribution."
   ]
  },
  {
   "cell_type": "code",
   "execution_count": 16,
   "metadata": {
    "collapsed": true
   },
   "outputs": [],
   "source": [
    "residuals = ?"
   ]
  },
  {
   "cell_type": "markdown",
   "metadata": {},
   "source": [
    "- Both the injuries and the regression residuals show a double-bump non-Gaussian pattern"
   ]
  },
  {
   "cell_type": "code",
   "execution_count": 17,
   "metadata": {},
   "outputs": [
    {
     "data": {
      "text/plain": [
       "(array([1.5580e+04, 0.0000e+00, 4.9660e+03, 0.0000e+00, 8.1820e+03,\n",
       "        0.0000e+00, 7.3980e+03, 0.0000e+00, 2.8677e+04, 0.0000e+00,\n",
       "        0.0000e+00, 1.5800e+02, 0.0000e+00, 3.0000e+00, 0.0000e+00,\n",
       "        0.0000e+00, 0.0000e+00, 0.0000e+00, 0.0000e+00, 5.3400e+02]),\n",
       " array([0.  , 0.45, 0.9 , 1.35, 1.8 , 2.25, 2.7 , 3.15, 3.6 , 4.05, 4.5 ,\n",
       "        4.95, 5.4 , 5.85, 6.3 , 6.75, 7.2 , 7.65, 8.1 , 8.55, 9.  ]),\n",
       " <a list of 20 Patch objects>)"
      ]
     },
     "execution_count": 17,
     "metadata": {},
     "output_type": "execute_result"
    },
    {
     "data": {
      "image/png": "[encoded data removed]",
      "text/plain": [
       "<Figure size 432x288 with 1 Axes>"
      ]
     },
     "metadata": {},
     "output_type": "display_data"
    }
   ],
   "source": [
    "plt.hist(accidents2.injury, 20)"
   ]
  },
  {
   "cell_type": "code",
   "execution_count": 18,
   "metadata": {},
   "outputs": [
    {
     "data": {
      "text/plain": [
       "(array([1.1983e+04, 3.5970e+03, 3.8750e+03, 1.0910e+03, 6.7750e+03,\n",
       "        1.4070e+03, 6.4390e+03, 9.5900e+02, 2.5279e+04, 3.3980e+03,\n",
       "        1.1800e+02, 4.0000e+01, 2.0000e+00, 1.0000e+00, 0.0000e+00,\n",
       "        0.0000e+00, 0.0000e+00, 0.0000e+00, 4.7900e+02, 5.5000e+01]),\n",
       " array([-2.6927966 , -2.19742927, -1.70206193, -1.2066946 , -0.71132726,\n",
       "        -0.21595993,  0.27940741,  0.77477474,  1.27014208,  1.76550941,\n",
       "         2.26087675,  2.75624408,  3.25161142,  3.74697875,  4.24234609,\n",
       "         4.73771342,  5.23308076,  5.72844809,  6.22381543,  6.71918277,\n",
       "         7.2145501 ]),\n",
       " <a list of 20 Patch objects>)"
      ]
     },
     "execution_count": 18,
     "metadata": {},
     "output_type": "execute_result"
    },
    {
     "data": {
      "image/png": "[encoded data removed]",
      "text/plain": [
       "<Figure size 432x288 with 1 Axes>"
      ]
     },
     "metadata": {},
     "output_type": "display_data"
    }
   ],
   "source": [
    "plt.hist(residuals, 20)"
   ]
  },
  {
   "cell_type": "markdown",
   "metadata": {},
   "source": [
    "- The residuals ? follow a Gaussian distribution"
   ]
  },
  {
   "cell_type": "markdown",
   "metadata": {},
   "source": [
    "## Q4:  The Relationship Between Number of Samples and std-errors\n",
    "- Part A: Fit the simple linear model (with intercept) using OLS within statsmodels.api\n",
    "- Read off the intercept, slope and their std errors\n",
    "- Part B: Use np.random.choice (with replace=False) to randomly select 100 samples to rerun the simple linear model, what happen to \n",
    "the lintercept, slope and std errors?"
   ]
  },
  {
   "cell_type": "markdown",
   "metadata": {},
   "source": [
    "## Fit an OLS using statsmodels, in order to get the confidence intervals"
   ]
  },
  {
   "cell_type": "code",
   "execution_count": 19,
   "metadata": {},
   "outputs": [],
   "source": [
    "import statsmodels.api as sm\n",
    "from statsmodels.api import OLS"
   ]
  },
  {
   "cell_type": "code",
   "execution_count": 20,
   "metadata": {},
   "outputs": [],
   "source": [
    "features = sm.add_constant(?)\n",
    "ols_sm   = OLS(?, ?)\n",
    "model    = ols_sm.fit()"
   ]
  },
  {
   "cell_type": "code",
   "execution_count": 21,
   "metadata": {
    "scrolled": true
   },
   "outputs": [
    {
     "name": "stdout",
     "output_type": "stream",
     "text": [
      "                            OLS Regression Results                            \n",
      "==============================================================================\n",
      "Dep. Variable:                 injury   R-squared:                       0.023\n",
      "Model:                            OLS   Adj. R-squared:                  0.023\n",
      "Method:                 Least Squares   F-statistic:                     1531.\n",
      "Date:                Thu, 20 Sep 2018   Prob (F-statistic):               0.00\n",
      "Time:                        16:29:28   Log-Likelihood:            -1.2883e+05\n",
      "No. Observations:               65498   AIC:                         2.577e+05\n",
      "Df Residuals:                   65496   BIC:                         2.577e+05\n",
      "Df Model:                           1                                         \n",
      "Covariance Type:            nonrobust                                         \n",
      "==============================================================================\n",
      "                 coef    std err          t      P>|t|      [0.025      0.975]\n",
      "------------------------------------------------------------------------------\n",
      "const          1.7850      0.020     91.434      0.000       1.747       1.823\n",
      "travspd        0.0092      0.000     39.125      0.000       0.009       0.010\n",
      "==============================================================================\n",
      "Omnibus:                       59.458   Durbin-Watson:                   1.895\n",
      "Prob(Omnibus):                  0.000   Jarque-Bera (JB):               55.439\n",
      "Skew:                          -0.044   Prob(JB):                     9.15e-13\n",
      "Kurtosis:                       2.888   Cond. No.                         241.\n",
      "==============================================================================\n",
      "\n",
      "Warnings:\n",
      "[1] Standard Errors assume that the covariance matrix of the errors is correctly specified.\n"
     ]
    }
   ],
   "source": [
    "print(model.summary())"
   ]
  },
  {
   "cell_type": "code",
   "execution_count": 24,
   "metadata": {},
   "outputs": [],
   "source": [
    "import numpy\n",
    "rIndex = numpy.random.choice(accidents2.index, 100, replace=False)\n",
    "U = accidents2.iloc[?]\n",
    "U = sm.add_constant(U)\n",
    "ols_sm = OLS(?, ?)"
   ]
  },
  {
   "cell_type": "code",
   "execution_count": 25,
   "metadata": {
    "scrolled": true
   },
   "outputs": [
    {
     "name": "stdout",
     "output_type": "stream",
     "text": [
      "                            OLS Regression Results                            \n",
      "==============================================================================\n",
      "Dep. Variable:                 injury   R-squared:                       0.094\n",
      "Model:                            OLS   Adj. R-squared:                  0.084\n",
      "Method:                 Least Squares   F-statistic:                     10.11\n",
      "Date:                Thu, 20 Sep 2018   Prob (F-statistic):            0.00197\n",
      "Time:                        16:29:36   Log-Likelihood:                -194.48\n",
      "No. Observations:                 100   AIC:                             393.0\n",
      "Df Residuals:                      98   BIC:                             398.2\n",
      "Df Model:                           1                                         \n",
      "Covariance Type:            nonrobust                                         \n",
      "==============================================================================\n",
      "                 coef    std err          t      P>|t|      [0.025      0.975]\n",
      "------------------------------------------------------------------------------\n",
      "const          1.1294      0.432      2.616      0.010       0.273       1.986\n",
      "travspd        0.0167      0.005      3.180      0.002       0.006       0.027\n",
      "==============================================================================\n",
      "Omnibus:                        0.903   Durbin-Watson:                   1.820\n",
      "Prob(Omnibus):                  0.637   Jarque-Bera (JB):                0.439\n",
      "Skew:                           0.064   Prob(JB):                        0.803\n",
      "Kurtosis:                       3.298   Cond. No.                         208.\n",
      "==============================================================================\n",
      "\n",
      "Warnings:\n",
      "[1] Standard Errors assume that the covariance matrix of the errors is correctly specified.\n"
     ]
    }
   ],
   "source": [
    "model2 = ols_sm.fit()\n",
    "print(model2.summary())"
   ]
  },
  {
   "cell_type": "markdown",
   "metadata": {},
   "source": [
    "## From here we can read off the std-error of the intercept and the slope coefficient\n",
    "-  ????"
   ]
  },
  {
   "cell_type": "markdown",
   "metadata": {},
   "source": [
    "## Q5: Estimating Std-Errors through Resamping\n",
    "- As usual, removing the rows with missing values\n",
    "- Run a for loop iterating for 1000 times and randomly select 100 distinct samples from this population 1000 times\n",
    "- Fit simple linear models for each of them and collect all their coefficients (intercepts and slopes)\n",
    "- At the end you will have 1000 intercepts and 1000 slopes and you can study their statistical behavior\n",
    "- How are the mean values of the 1000 intercepts and the 1000 slopes compared to the coefficients estimated by the\n",
    "full data set?\n",
    "- How are the std of the 1000 intercepts and the std of the 1000 slopes compared to the std-errors from the Q4 part B?"
   ]
  },
  {
   "cell_type": "code",
   "execution_count": 26,
   "metadata": {
    "scrolled": false
   },
   "outputs": [],
   "source": [
    "coefs = []\n",
    "intercepts = []\n",
    "\n",
    "for i in range(1000):\n",
    "    rIndex = np.random.choice(?, ?, replace=?) # randomly select 100 samples 1000 times   \n",
    "    sampled = accidents2.loc[rIndex]\n",
    "\n",
    "    ols.fit(?, ?)\n",
    "    coefs.append(?)\n",
    "    intercepts.append(?)"
   ]
  },
  {
   "cell_type": "markdown",
   "metadata": {},
   "source": [
    "## Visual Inspection on the Intercepts of the Linear Models Using Resampled Data\n",
    "- When we run a large number of independent random 100 sub-samples, the intercepts of the models can range from near $0$ to near $3.5$"
   ]
  },
  {
   "cell_type": "code",
   "execution_count": 27,
   "metadata": {},
   "outputs": [
    {
     "data": {
      "text/plain": [
       "(array([ 15.,  70., 199., 283., 253., 121.,  41.,  14.,   3.,   1.]),\n",
       " array([0.2468729 , 0.64868265, 1.0504924 , 1.45230215, 1.8541119 ,\n",
       "        2.25592165, 2.6577314 , 3.05954116, 3.46135091, 3.86316066,\n",
       "        4.26497041]),\n",
       " <a list of 10 Patch objects>)"
      ]
     },
     "execution_count": 27,
     "metadata": {},
     "output_type": "execute_result"
    },
    {
     "data": {
      "image/png": "[encoded data removed]",
      "text/plain": [
       "<Figure size 432x288 with 1 Axes>"
      ]
     },
     "metadata": {},
     "output_type": "display_data"
    }
   ],
   "source": [
    "plt.hist(?)"
   ]
  },
  {
   "cell_type": "markdown",
   "metadata": {},
   "source": [
    "## Visual Inspection on the Slopes\n",
    "- The regression slopes of the random subsamples can range from $-0.01$ to $0.025$"
   ]
  },
  {
   "cell_type": "code",
   "execution_count": 28,
   "metadata": {},
   "outputs": [
    {
     "data": {
      "text/plain": [
       "(array([  1.,   2.,  14.,  31.,  99., 234., 293., 207.,  96.,  23.]),\n",
       " array([-0.0209724 , -0.01621558, -0.01145876, -0.00670195, -0.00194513,\n",
       "         0.00281169,  0.00756851,  0.01232532,  0.01708214,  0.02183896,\n",
       "         0.02659578]),\n",
       " <a list of 10 Patch objects>)"
      ]
     },
     "execution_count": 28,
     "metadata": {},
     "output_type": "execute_result"
    },
    {
     "data": {
      "image/png": "[encoded data removed]",
      "text/plain": [
       "<Figure size 432x288 with 1 Axes>"
      ]
     },
     "metadata": {},
     "output_type": "display_data"
    }
   ],
   "source": [
    "plt.hist(?)"
   ]
  },
  {
   "cell_type": "markdown",
   "metadata": {},
   "source": [
    "## The Mean Values of the Random Sampled Model Coefficients are close to the coefficients of the Full Model \n",
    "- We use the coefficient estimation of the total $65000$ samples as a proxy as the true model coefficients"
   ]
  },
  {
   "cell_type": "code",
   "execution_count": 29,
   "metadata": {},
   "outputs": [
    {
     "data": {
      "text/plain": [
       "(0.00930548311669485, 1.7736269952454018)"
      ]
     },
     "execution_count": 29,
     "metadata": {},
     "output_type": "execute_result"
    }
   ],
   "source": [
    "np.mean(coefs), np.mean(intercepts)"
   ]
  },
  {
   "cell_type": "markdown",
   "metadata": {},
   "source": [
    "## The STDs of the Random Sampled Model Coefficients are Close to the STD-Errors Estimated by statsmodels"
   ]
  },
  {
   "cell_type": "code",
   "execution_count": 30,
   "metadata": {},
   "outputs": [
    {
     "data": {
      "text/plain": [
       "(0.006605657405297607, 0.5495899818488378)"
      ]
     },
     "execution_count": 30,
     "metadata": {},
     "output_type": "execute_result"
    }
   ],
   "source": [
    "np.std(coefs), np.std(intercepts)"
   ]
  },
  {
   "cell_type": "code",
   "execution_count": null,
   "metadata": {
    "collapsed": true
   },
   "outputs": [],
   "source": []
  }
 ],
 "metadata": {
  "kernelspec": {
   "display_name": "Python 3 (ipykernel)",
   "language": "python",
   "name": "python3"
  },
  "language_info": {
   "codemirror_mode": {
    "name": "ipython",
    "version": 3
   },
   "file_extension": ".py",
   "mimetype": "text/x-python",
   "name": "python",
   "nbconvert_exporter": "python",
   "pygments_lexer": "ipython3",
   "version": "3.9.12"
  }
 },
 "nbformat": 4,
 "nbformat_minor": 2
}
